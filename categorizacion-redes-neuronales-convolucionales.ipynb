{
 "cells": [
  {
   "cell_type": "code",
   "execution_count": 1,
   "id": "42fe2d8f",
   "metadata": {
    "_cell_guid": "b1076dfc-b9ad-4769-8c92-a6c4dae69d19",
    "_uuid": "8f2839f25d086af736a60e9eeb907d3b93b6e0e5",
    "editable": false,
    "execution": {
     "iopub.execute_input": "2023-05-12T08:16:42.455571Z",
     "iopub.status.busy": "2023-05-12T08:16:42.454676Z",
     "iopub.status.idle": "2023-05-12T08:16:42.468857Z",
     "shell.execute_reply": "2023-05-12T08:16:42.467558Z"
    },
    "papermill": {
     "duration": 0.024971,
     "end_time": "2023-05-12T08:16:42.471220",
     "exception": false,
     "start_time": "2023-05-12T08:16:42.446249",
     "status": "completed"
    },
    "tags": []
   },
   "outputs": [],
   "source": [
    "# This Python 3 environment comes with many helpful analytics libraries installed\n",
    "# It is defined by the kaggle/python Docker image: https://github.com/kaggle/docker-python\n",
    "# For example, here's several helpful packages to load\n",
    "\n",
    "import numpy as np # linear algebra\n",
    "import pandas as pd # data processing, CSV file I/O (e.g. pd.read_csv)\n",
    "\n",
    "# Input data files are available in the read-only \"../input/\" directory\n",
    "# For example, running this (by clicking run or pressing Shift+Enter) will list all files under the input directory\n",
    "\n",
    "import os\n",
    "for dirname, _, filenames in os.walk('/kaggle/input'):\n",
    "    for filename in filenames:\n",
    "        print(os.path.join(dirname, filename))\n",
    "\n",
    "# You can write up to 20GB to the current directory (/kaggle/working/) that gets preserved as output when you create a version using \"Save & Run All\" \n",
    "# You can also write temporary files to /kaggle/temp/, but they won't be saved outside of the current session"
   ]
  },
  {
   "cell_type": "code",
   "execution_count": 2,
   "id": "62b8bdd4",
   "metadata": {
    "execution": {
     "iopub.execute_input": "2023-05-12T08:16:42.484450Z",
     "iopub.status.busy": "2023-05-12T08:16:42.484151Z",
     "iopub.status.idle": "2023-05-12T08:16:50.010125Z",
     "shell.execute_reply": "2023-05-12T08:16:50.008918Z"
    },
    "papermill": {
     "duration": 7.535954,
     "end_time": "2023-05-12T08:16:50.013050",
     "exception": false,
     "start_time": "2023-05-12T08:16:42.477096",
     "status": "completed"
    },
    "tags": []
   },
   "outputs": [],
   "source": [
    "import matplotlib.pyplot as plt\n",
    "\n",
    "from tensorflow import keras\n",
    "from tensorflow.keras.utils import to_categorical\n",
    "from tensorflow.keras import regularizers\n",
    "from tensorflow.keras.models import Sequential\n",
    "from tensorflow.keras.layers import Conv2D, MaxPooling2D, Flatten, Dense, Dropout, Activation, BatchNormalization\n",
    "from tensorflow.keras.datasets import cifar10\n",
    "from tensorflow.keras.preprocessing.image import ImageDataGenerator\n",
    "from tensorflow.keras.callbacks import ModelCheckpoint\n",
    "from tensorflow.keras import optimizers"
   ]
  },
  {
   "cell_type": "markdown",
   "id": "dfd39a55",
   "metadata": {
    "editable": false,
    "papermill": {
     "duration": 0.005609,
     "end_time": "2023-05-12T08:16:50.024680",
     "exception": false,
     "start_time": "2023-05-12T08:16:50.019071",
     "status": "completed"
    },
    "tags": []
   },
   "source": [
    "# Procesamiento de datos"
   ]
  },
  {
   "cell_type": "code",
   "execution_count": 3,
   "id": "4227ac21",
   "metadata": {
    "editable": false,
    "execution": {
     "iopub.execute_input": "2023-05-12T08:16:50.038805Z",
     "iopub.status.busy": "2023-05-12T08:16:50.037350Z",
     "iopub.status.idle": "2023-05-12T08:16:58.807959Z",
     "shell.execute_reply": "2023-05-12T08:16:58.806808Z"
    },
    "papermill": {
     "duration": 8.780225,
     "end_time": "2023-05-12T08:16:58.810584",
     "exception": false,
     "start_time": "2023-05-12T08:16:50.030359",
     "status": "completed"
    },
    "tags": []
   },
   "outputs": [
    {
     "name": "stdout",
     "output_type": "stream",
     "text": [
      "Downloading data from https://www.cs.toronto.edu/~kriz/cifar-10-python.tar.gz\n",
      "170498071/170498071 [==============================] - 6s 0us/step\n"
     ]
    },
    {
     "data": {
      "text/plain": [
       "((50000, 32, 32, 3), (10000, 1))"
      ]
     },
     "execution_count": 3,
     "metadata": {},
     "output_type": "execute_result"
    }
   ],
   "source": [
    "# Definir datos de train y test\n",
    "(x_train, y_train), (x_test, y_test) = cifar10.load_data()\n",
    "\n",
    "# Shape de los datos\n",
    "x_train.shape, y_test.shape"
   ]
  },
  {
   "cell_type": "code",
   "execution_count": 4,
   "id": "6c97b107",
   "metadata": {
    "editable": false,
    "execution": {
     "iopub.execute_input": "2023-05-12T08:16:58.839436Z",
     "iopub.status.busy": "2023-05-12T08:16:58.839126Z",
     "iopub.status.idle": "2023-05-12T08:16:59.030587Z",
     "shell.execute_reply": "2023-05-12T08:16:59.029420Z"
    },
    "papermill": {
     "duration": 0.2091,
     "end_time": "2023-05-12T08:16:59.033609",
     "exception": false,
     "start_time": "2023-05-12T08:16:58.824509",
     "status": "completed"
    },
    "tags": []
   },
   "outputs": [],
   "source": [
    "# Normalizar de datos X unicamente cuando no se estandarizan\n",
    "x_train = x_train.astype('float32') #/255\n",
    "x_test = x_test.astype('float32') #/255\n",
    "\n",
    "# Definimos el numero de categorias\n",
    "num_categorias = len(np.unique(y_train))\n",
    "\n",
    "# Vectorizamos las categorias\n",
    "y_train = to_categorical(y_train, num_categorias)\n",
    "y_test = to_categorical(y_test, num_categorias)\n",
    "\n",
    "# Dividir el set de datos en entrenamiento y validacion\n",
    "(x_train, x_valid) = x_train[5000:], x_train[:5000]\n",
    "(y_train, y_valid) = y_train[5000:], y_train[:5000]"
   ]
  },
  {
   "cell_type": "markdown",
   "id": "7a41d5b3",
   "metadata": {
    "editable": false,
    "papermill": {
     "duration": 0.013713,
     "end_time": "2023-05-12T08:16:59.061184",
     "exception": false,
     "start_time": "2023-05-12T08:16:59.047471",
     "status": "completed"
    },
    "tags": []
   },
   "source": [
    "# Capa de Batch Normalization\n",
    "\n",
    "Agregamos un valor muy chiquito, como $1x10^{-7}$ el cual, nos permite que la std nunca sea 0 (fracciones indivisibles entre 0)."
   ]
  },
  {
   "cell_type": "code",
   "execution_count": 5,
   "id": "cc7dc2c9",
   "metadata": {
    "editable": false,
    "execution": {
     "iopub.execute_input": "2023-05-12T08:16:59.090765Z",
     "iopub.status.busy": "2023-05-12T08:16:59.090430Z",
     "iopub.status.idle": "2023-05-12T08:16:59.717089Z",
     "shell.execute_reply": "2023-05-12T08:16:59.715865Z"
    },
    "papermill": {
     "duration": 0.644009,
     "end_time": "2023-05-12T08:16:59.719799",
     "exception": false,
     "start_time": "2023-05-12T08:16:59.075790",
     "status": "completed"
    },
    "tags": []
   },
   "outputs": [],
   "source": [
    "# Obtener media y std del set de entrenamiento\n",
    "mean = np.mean(x_train)\n",
    "std = np.std(x_train)\n",
    "\n",
    "# Estandarizar los datos de train y test\n",
    "x_train = (x_train  - mean)/(std + 1e-7)\n",
    "x_test = (x_test  - mean)/(std + 1e-7)"
   ]
  },
  {
   "cell_type": "markdown",
   "id": "1ad2005b",
   "metadata": {
    "editable": false,
    "papermill": {
     "duration": 0.013301,
     "end_time": "2023-05-12T08:16:59.747258",
     "exception": false,
     "start_time": "2023-05-12T08:16:59.733957",
     "status": "completed"
    },
    "tags": []
   },
   "source": [
    "# Creacion del modelo\n",
    "\n",
    "El optimizador `optimizers.Adam()` se adecua bastante bien al momentum de la red, haciendo que se adecue mejor el optimizador."
   ]
  },
  {
   "cell_type": "code",
   "execution_count": 6,
   "id": "e0bfc558",
   "metadata": {
    "editable": false,
    "execution": {
     "iopub.execute_input": "2023-05-12T08:16:59.777242Z",
     "iopub.status.busy": "2023-05-12T08:16:59.776252Z",
     "iopub.status.idle": "2023-05-12T08:17:02.664524Z",
     "shell.execute_reply": "2023-05-12T08:17:02.663639Z"
    },
    "papermill": {
     "duration": 2.951468,
     "end_time": "2023-05-12T08:17:02.712748",
     "exception": false,
     "start_time": "2023-05-12T08:16:59.761280",
     "status": "completed"
    },
    "tags": []
   },
   "outputs": [
    {
     "name": "stdout",
     "output_type": "stream",
     "text": [
      "Model: \"sequential\"\n",
      "_________________________________________________________________\n",
      " Layer (type)                Output Shape              Param #   \n",
      "=================================================================\n",
      " conv2d (Conv2D)             (None, 32, 32, 32)        896       \n",
      "                                                                 \n",
      " activation (Activation)     (None, 32, 32, 32)        0         \n",
      "                                                                 \n",
      " batch_normalization (BatchN  (None, 32, 32, 32)       128       \n",
      " ormalization)                                                   \n",
      "                                                                 \n",
      " conv2d_1 (Conv2D)           (None, 32, 32, 32)        9248      \n",
      "                                                                 \n",
      " activation_1 (Activation)   (None, 32, 32, 32)        0         \n",
      "                                                                 \n",
      " batch_normalization_1 (Batc  (None, 32, 32, 32)       128       \n",
      " hNormalization)                                                 \n",
      "                                                                 \n",
      " max_pooling2d (MaxPooling2D  (None, 16, 16, 32)       0         \n",
      " )                                                               \n",
      "                                                                 \n",
      " dropout (Dropout)           (None, 16, 16, 32)        0         \n",
      "                                                                 \n",
      " conv2d_2 (Conv2D)           (None, 16, 16, 64)        18496     \n",
      "                                                                 \n",
      " activation_2 (Activation)   (None, 16, 16, 64)        0         \n",
      "                                                                 \n",
      " batch_normalization_2 (Batc  (None, 16, 16, 64)       256       \n",
      " hNormalization)                                                 \n",
      "                                                                 \n",
      " dropout_1 (Dropout)         (None, 16, 16, 64)        0         \n",
      "                                                                 \n",
      " conv2d_3 (Conv2D)           (None, 16, 16, 64)        36928     \n",
      "                                                                 \n",
      " activation_3 (Activation)   (None, 16, 16, 64)        0         \n",
      "                                                                 \n",
      " batch_normalization_3 (Batc  (None, 16, 16, 64)       256       \n",
      " hNormalization)                                                 \n",
      "                                                                 \n",
      " max_pooling2d_1 (MaxPooling  (None, 8, 8, 64)         0         \n",
      " 2D)                                                             \n",
      "                                                                 \n",
      " dropout_2 (Dropout)         (None, 8, 8, 64)          0         \n",
      "                                                                 \n",
      " conv2d_4 (Conv2D)           (None, 8, 8, 128)         73856     \n",
      "                                                                 \n",
      " activation_4 (Activation)   (None, 8, 8, 128)         0         \n",
      "                                                                 \n",
      " batch_normalization_4 (Batc  (None, 8, 8, 128)        512       \n",
      " hNormalization)                                                 \n",
      "                                                                 \n",
      " conv2d_5 (Conv2D)           (None, 8, 8, 128)         147584    \n",
      "                                                                 \n",
      " activation_5 (Activation)   (None, 8, 8, 128)         0         \n",
      "                                                                 \n",
      " batch_normalization_5 (Batc  (None, 8, 8, 128)        512       \n",
      " hNormalization)                                                 \n",
      "                                                                 \n",
      " max_pooling2d_2 (MaxPooling  (None, 4, 4, 128)        0         \n",
      " 2D)                                                             \n",
      "                                                                 \n",
      " dropout_3 (Dropout)         (None, 4, 4, 128)         0         \n",
      "                                                                 \n",
      " flatten (Flatten)           (None, 2048)              0         \n",
      "                                                                 \n",
      " dense (Dense)               (None, 10)                20490     \n",
      "                                                                 \n",
      "=================================================================\n",
      "Total params: 309,290\n",
      "Trainable params: 308,394\n",
      "Non-trainable params: 896\n",
      "_________________________________________________________________\n"
     ]
    }
   ],
   "source": [
    "# Definir variables del modelo\n",
    "base_filtros = 32\n",
    "w_regularizer = 1e-4\n",
    "\n",
    "# Modelo\n",
    "model = Sequential()\n",
    "\n",
    "# Conv 1 con activacion\n",
    "model.add(Conv2D(filters = base_filtros, kernel_size = (3,3), padding = 'same', \n",
    "                 kernel_regularizer = regularizers.l2(w_regularizer), input_shape = x_train.shape[1:] ))\n",
    "model.add(Activation('relu'))\n",
    "model.add(BatchNormalization())\n",
    "\n",
    "# Conv 2 con activacion, pooling y dropout\n",
    "model.add(Conv2D(filters = base_filtros, kernel_size = (3,3), padding = 'same', kernel_regularizer = regularizers.l2(w_regularizer)))\n",
    "model.add(Activation('relu'))\n",
    "model.add(BatchNormalization())\n",
    "model.add(MaxPooling2D(pool_size = (2,2)))\n",
    "model.add(Dropout(0.2))\n",
    "\n",
    "# Conv 3 con activacion y dropout\n",
    "model.add(Conv2D(filters = 2 * base_filtros, kernel_size = (3,3), padding = 'same', kernel_regularizer = regularizers.l2(w_regularizer)))\n",
    "model.add(Activation('relu'))\n",
    "model.add(BatchNormalization())\n",
    "model.add(Dropout(0.2))\n",
    "\n",
    "# Conv 4 con activacion, pooling y dropout\n",
    "model.add(Conv2D(filters = 2 * base_filtros, kernel_size = (3,3), padding = 'same', kernel_regularizer = regularizers.l2(w_regularizer)))\n",
    "model.add(Activation('relu'))\n",
    "model.add(BatchNormalization())\n",
    "model.add(MaxPooling2D(pool_size = (2,2)))\n",
    "model.add(Dropout(0.3))\n",
    "\n",
    "# Conv 5 con activacion\n",
    "model.add(Conv2D(filters = 4 * base_filtros, kernel_size = (3,3), padding = 'same', kernel_regularizer = regularizers.l2(w_regularizer)))\n",
    "model.add(Activation('relu'))\n",
    "model.add(BatchNormalization())\n",
    "\n",
    "# Conv 6 con activacion, pooling y dropout\n",
    "model.add(Conv2D(filters = 4 * base_filtros, kernel_size = (3,3), padding = 'same', kernel_regularizer = regularizers.l2(w_regularizer)))\n",
    "model.add(Activation('relu'))\n",
    "model.add(BatchNormalization())\n",
    "model.add(MaxPooling2D(pool_size = (2,2)))\n",
    "model.add(Dropout(0.4))\n",
    "\n",
    "# Hacemos flatten y activamos con softmax para categorizar\n",
    "model.add(Flatten())\n",
    "model.add(Dense(num_categorias, activation = 'softmax'))\n",
    "\n",
    "# Compilamos las funciones de optimizacion y coste\n",
    "model.compile(loss = 'categorical_crossentropy', optimizer = optimizers.Adam(), \n",
    "              metrics = ['accuracy'])\n",
    "\n",
    "# Hacemos summary del modelo\n",
    "model.summary()"
   ]
  },
  {
   "cell_type": "markdown",
   "id": "146b1611",
   "metadata": {
    "editable": false,
    "papermill": {
     "duration": 0.020329,
     "end_time": "2023-05-12T08:17:02.752086",
     "exception": false,
     "start_time": "2023-05-12T08:17:02.731757",
     "status": "completed"
    },
    "tags": []
   },
   "source": [
    "# Data Augmentation"
   ]
  },
  {
   "cell_type": "code",
   "execution_count": 7,
   "id": "17c4383e",
   "metadata": {
    "editable": false,
    "execution": {
     "iopub.execute_input": "2023-05-12T08:17:02.791916Z",
     "iopub.status.busy": "2023-05-12T08:17:02.791157Z",
     "iopub.status.idle": "2023-05-12T08:17:02.797380Z",
     "shell.execute_reply": "2023-05-12T08:17:02.796253Z"
    },
    "papermill": {
     "duration": 0.028515,
     "end_time": "2023-05-12T08:17:02.799939",
     "exception": false,
     "start_time": "2023-05-12T08:17:02.771424",
     "status": "completed"
    },
    "tags": []
   },
   "outputs": [],
   "source": [
    "# Creamos el modulo ImageDataGenerator con los diferentes parametros\n",
    "datagen = ImageDataGenerator(rotation_range= 15,\n",
    "                  width_shift_range= 0.1,\n",
    "                  height_shift_range= 0.1,\n",
    "                  horizontal_flip= True, \n",
    "                  vertical_flip= True,\n",
    "                  fill_mode = 'nearest',\n",
    "                  brightness_range= [0.4, 1.5])"
   ]
  },
  {
   "cell_type": "markdown",
   "id": "925d3e18",
   "metadata": {
    "editable": false,
    "papermill": {
     "duration": 0.018752,
     "end_time": "2023-05-12T08:17:02.837751",
     "exception": false,
     "start_time": "2023-05-12T08:17:02.818999",
     "status": "completed"
    },
    "tags": []
   },
   "source": [
    "# Entrenamiento"
   ]
  },
  {
   "cell_type": "code",
   "execution_count": 8,
   "id": "8a8a020f",
   "metadata": {
    "editable": false,
    "execution": {
     "iopub.execute_input": "2023-05-12T08:17:02.877160Z",
     "iopub.status.busy": "2023-05-12T08:17:02.876776Z",
     "iopub.status.idle": "2023-05-12T08:17:02.881337Z",
     "shell.execute_reply": "2023-05-12T08:17:02.880243Z"
    },
    "papermill": {
     "duration": 0.026962,
     "end_time": "2023-05-12T08:17:02.883728",
     "exception": false,
     "start_time": "2023-05-12T08:17:02.856766",
     "status": "completed"
    },
    "tags": []
   },
   "outputs": [],
   "source": [
    "# Entrenamiento normal\n",
    "\n",
    "#hist = model.fit(x_train, y_train, batch_size=32,epochs=100,\n",
    "#                validation_data=(x_valid, y_valid),\n",
    "#                verbose=2, shuffle=True)"
   ]
  },
  {
   "cell_type": "code",
   "execution_count": 9,
   "id": "5d6436fa",
   "metadata": {
    "execution": {
     "iopub.execute_input": "2023-05-12T08:17:02.922571Z",
     "iopub.status.busy": "2023-05-12T08:17:02.922049Z",
     "iopub.status.idle": "2023-05-12T08:25:10.995472Z",
     "shell.execute_reply": "2023-05-12T08:25:10.994332Z"
    },
    "papermill": {
     "duration": 488.095929,
     "end_time": "2023-05-12T08:25:10.998329",
     "exception": false,
     "start_time": "2023-05-12T08:17:02.902400",
     "status": "completed"
    },
    "tags": []
   },
   "outputs": [
    {
     "name": "stdout",
     "output_type": "stream",
     "text": [
      "Epoch 1/30\n"
     ]
    },
    {
     "name": "stderr",
     "output_type": "stream",
     "text": [
      "2023-05-12 08:17:05.466178: E tensorflow/core/grappler/optimizers/meta_optimizer.cc:954] layout failed: INVALID_ARGUMENT: Size of values 0 does not match size of permutation 4 @ fanin shape insequential/dropout/dropout/SelectV2-2-TransposeNHWCToNCHW-LayoutOptimizer\n"
     ]
    },
    {
     "name": "stdout",
     "output_type": "stream",
     "text": [
      "\n",
      "Epoch 1: val_accuracy improved from -inf to 0.12620, saving model to CNN_reconocimiento_objetos.hdf5\n",
      "351/351 - 23s - loss: 2.7951 - accuracy: 0.2335 - val_loss: 81.1734 - val_accuracy: 0.1262 - 23s/epoch - 66ms/step\n",
      "Epoch 2/30\n",
      "\n",
      "Epoch 2: val_accuracy did not improve from 0.12620\n",
      "351/351 - 12s - loss: 2.2918 - accuracy: 0.2884 - val_loss: 115.8407 - val_accuracy: 0.1020 - 12s/epoch - 35ms/step\n",
      "Epoch 3/30\n",
      "\n",
      "Epoch 3: val_accuracy did not improve from 0.12620\n",
      "351/351 - 13s - loss: 2.0594 - accuracy: 0.3351 - val_loss: 113.7060 - val_accuracy: 0.1002 - 13s/epoch - 37ms/step\n",
      "Epoch 4/30\n",
      "\n",
      "Epoch 4: val_accuracy improved from 0.12620 to 0.16520, saving model to CNN_reconocimiento_objetos.hdf5\n",
      "351/351 - 12s - loss: 1.9214 - accuracy: 0.3580 - val_loss: 73.7497 - val_accuracy: 0.1652 - 12s/epoch - 35ms/step\n",
      "Epoch 5/30\n",
      "\n",
      "Epoch 5: val_accuracy did not improve from 0.16520\n",
      "351/351 - 13s - loss: 1.7965 - accuracy: 0.3886 - val_loss: 104.6820 - val_accuracy: 0.1454 - 13s/epoch - 37ms/step\n",
      "Epoch 6/30\n",
      "\n",
      "Epoch 6: val_accuracy improved from 0.16520 to 0.21180, saving model to CNN_reconocimiento_objetos.hdf5\n",
      "351/351 - 12s - loss: 1.7050 - accuracy: 0.4126 - val_loss: 62.8632 - val_accuracy: 0.2118 - 12s/epoch - 35ms/step\n",
      "Epoch 7/30\n",
      "\n",
      "Epoch 7: val_accuracy did not improve from 0.21180\n",
      "351/351 - 12s - loss: 1.6254 - accuracy: 0.4418 - val_loss: 105.3798 - val_accuracy: 0.1460 - 12s/epoch - 34ms/step\n",
      "Epoch 8/30\n",
      "\n",
      "Epoch 8: val_accuracy improved from 0.21180 to 0.22160, saving model to CNN_reconocimiento_objetos.hdf5\n",
      "351/351 - 12s - loss: 1.5235 - accuracy: 0.4748 - val_loss: 96.9514 - val_accuracy: 0.2216 - 12s/epoch - 35ms/step\n",
      "Epoch 9/30\n",
      "\n",
      "Epoch 9: val_accuracy did not improve from 0.22160\n",
      "351/351 - 12s - loss: 1.4625 - accuracy: 0.4927 - val_loss: 92.9103 - val_accuracy: 0.1152 - 12s/epoch - 35ms/step\n",
      "Epoch 10/30\n",
      "\n",
      "Epoch 10: val_accuracy improved from 0.22160 to 0.28320, saving model to CNN_reconocimiento_objetos.hdf5\n",
      "351/351 - 13s - loss: 1.4088 - accuracy: 0.5150 - val_loss: 44.7460 - val_accuracy: 0.2832 - 13s/epoch - 36ms/step\n",
      "Epoch 11/30\n",
      "\n",
      "Epoch 11: val_accuracy did not improve from 0.28320\n",
      "351/351 - 13s - loss: 1.3892 - accuracy: 0.5213 - val_loss: 36.2183 - val_accuracy: 0.1952 - 13s/epoch - 37ms/step\n",
      "Epoch 12/30\n",
      "\n",
      "Epoch 12: val_accuracy did not improve from 0.28320\n",
      "351/351 - 12s - loss: 1.3410 - accuracy: 0.5294 - val_loss: 36.7682 - val_accuracy: 0.2314 - 12s/epoch - 35ms/step\n",
      "Epoch 13/30\n",
      "\n",
      "Epoch 13: val_accuracy did not improve from 0.28320\n",
      "351/351 - 13s - loss: 1.2992 - accuracy: 0.5569 - val_loss: 20.3637 - val_accuracy: 0.2526 - 13s/epoch - 36ms/step\n",
      "Epoch 14/30\n",
      "\n",
      "Epoch 14: val_accuracy improved from 0.28320 to 0.29500, saving model to CNN_reconocimiento_objetos.hdf5\n",
      "351/351 - 12s - loss: 1.2789 - accuracy: 0.5667 - val_loss: 17.6100 - val_accuracy: 0.2950 - 12s/epoch - 36ms/step\n",
      "Epoch 15/30\n",
      "\n",
      "Epoch 15: val_accuracy did not improve from 0.29500\n",
      "351/351 - 13s - loss: 1.2612 - accuracy: 0.5751 - val_loss: 19.0493 - val_accuracy: 0.2492 - 13s/epoch - 36ms/step\n",
      "Epoch 16/30\n",
      "\n",
      "Epoch 16: val_accuracy did not improve from 0.29500\n",
      "351/351 - 12s - loss: 1.2137 - accuracy: 0.5978 - val_loss: 30.4286 - val_accuracy: 0.2284 - 12s/epoch - 34ms/step\n",
      "Epoch 17/30\n",
      "\n",
      "Epoch 17: val_accuracy improved from 0.29500 to 0.38320, saving model to CNN_reconocimiento_objetos.hdf5\n",
      "351/351 - 12s - loss: 1.2157 - accuracy: 0.5996 - val_loss: 7.7624 - val_accuracy: 0.3832 - 12s/epoch - 36ms/step\n",
      "Epoch 18/30\n",
      "\n",
      "Epoch 18: val_accuracy did not improve from 0.38320\n",
      "351/351 - 12s - loss: 1.1991 - accuracy: 0.6007 - val_loss: 23.8941 - val_accuracy: 0.2270 - 12s/epoch - 35ms/step\n",
      "Epoch 19/30\n",
      "\n",
      "Epoch 19: val_accuracy did not improve from 0.38320\n",
      "351/351 - 13s - loss: 1.1957 - accuracy: 0.6076 - val_loss: 19.9177 - val_accuracy: 0.2068 - 13s/epoch - 36ms/step\n",
      "Epoch 20/30\n",
      "\n",
      "Epoch 20: val_accuracy did not improve from 0.38320\n",
      "351/351 - 12s - loss: 1.1901 - accuracy: 0.6042 - val_loss: 15.0841 - val_accuracy: 0.2864 - 12s/epoch - 33ms/step\n",
      "Epoch 21/30\n",
      "\n",
      "Epoch 21: val_accuracy did not improve from 0.38320\n",
      "351/351 - 12s - loss: 1.1561 - accuracy: 0.6232 - val_loss: 17.0272 - val_accuracy: 0.2128 - 12s/epoch - 33ms/step\n",
      "Epoch 22/30\n",
      "\n",
      "Epoch 22: val_accuracy did not improve from 0.38320\n",
      "351/351 - 13s - loss: 1.1636 - accuracy: 0.6175 - val_loss: 10.6886 - val_accuracy: 0.2960 - 13s/epoch - 36ms/step\n",
      "Epoch 23/30\n",
      "\n",
      "Epoch 23: val_accuracy did not improve from 0.38320\n",
      "351/351 - 12s - loss: 1.1514 - accuracy: 0.6284 - val_loss: 15.3220 - val_accuracy: 0.3106 - 12s/epoch - 35ms/step\n",
      "Epoch 24/30\n",
      "\n",
      "Epoch 24: val_accuracy did not improve from 0.38320\n",
      "351/351 - 12s - loss: 1.1382 - accuracy: 0.6244 - val_loss: 17.5570 - val_accuracy: 0.2054 - 12s/epoch - 34ms/step\n",
      "Epoch 25/30\n",
      "\n",
      "Epoch 25: val_accuracy did not improve from 0.38320\n",
      "351/351 - 13s - loss: 1.1319 - accuracy: 0.6395 - val_loss: 13.1117 - val_accuracy: 0.3402 - 13s/epoch - 36ms/step\n",
      "Epoch 26/30\n",
      "\n",
      "Epoch 26: val_accuracy did not improve from 0.38320\n",
      "351/351 - 12s - loss: 1.1312 - accuracy: 0.6386 - val_loss: 15.4989 - val_accuracy: 0.2206 - 12s/epoch - 34ms/step\n",
      "Epoch 27/30\n",
      "\n",
      "Epoch 27: val_accuracy did not improve from 0.38320\n",
      "351/351 - 13s - loss: 1.1166 - accuracy: 0.6438 - val_loss: 16.0258 - val_accuracy: 0.2824 - 13s/epoch - 36ms/step\n",
      "Epoch 28/30\n",
      "\n",
      "Epoch 28: val_accuracy did not improve from 0.38320\n",
      "351/351 - 12s - loss: 1.1132 - accuracy: 0.6449 - val_loss: 13.3955 - val_accuracy: 0.2732 - 12s/epoch - 34ms/step\n",
      "Epoch 29/30\n",
      "\n",
      "Epoch 29: val_accuracy did not improve from 0.38320\n",
      "351/351 - 12s - loss: 1.0998 - accuracy: 0.6475 - val_loss: 15.1856 - val_accuracy: 0.2352 - 12s/epoch - 36ms/step\n",
      "Epoch 30/30\n",
      "\n",
      "Epoch 30: val_accuracy did not improve from 0.38320\n",
      "351/351 - 12s - loss: 1.1073 - accuracy: 0.6532 - val_loss: 11.8198 - val_accuracy: 0.3416 - 12s/epoch - 33ms/step\n"
     ]
    }
   ],
   "source": [
    "# Definimos el model checkpoint\n",
    "checkpoint = ModelCheckpoint('CNN_reconocimiento_objetos.hdf5', verbose=1,\n",
    "                             save_best_only= True, monitor = 'val_accuracy')\n",
    "\n",
    "# Entrenamiento y validacion del modelo por DataGen\n",
    "hist = model.fit( datagen.flow(x_train, y_train),\n",
    "          callbacks = checkpoint,\n",
    "          batch_size = 128,\n",
    "          steps_per_epoch = x_train.shape[0] // 128,\n",
    "          epochs = 30,\n",
    "         validation_data= (x_valid, y_valid),\n",
    "         verbose = 2, shuffle = True)"
   ]
  },
  {
   "cell_type": "markdown",
   "id": "ef472644",
   "metadata": {
    "papermill": {
     "duration": 0.024656,
     "end_time": "2023-05-12T08:25:11.048419",
     "exception": false,
     "start_time": "2023-05-12T08:25:11.023763",
     "status": "completed"
    },
    "tags": []
   },
   "source": [
    "# Graficar Resultados"
   ]
  },
  {
   "cell_type": "code",
   "execution_count": 10,
   "id": "d59f0b7f",
   "metadata": {
    "execution": {
     "iopub.execute_input": "2023-05-12T08:25:11.099970Z",
     "iopub.status.busy": "2023-05-12T08:25:11.099624Z",
     "iopub.status.idle": "2023-05-12T08:25:11.342871Z",
     "shell.execute_reply": "2023-05-12T08:25:11.341797Z"
    },
    "papermill": {
     "duration": 0.271578,
     "end_time": "2023-05-12T08:25:11.345255",
     "exception": false,
     "start_time": "2023-05-12T08:25:11.073677",
     "status": "completed"
    },
    "tags": []
   },
   "outputs": [
    {
     "data": {
      "image/png": "[encoded data removed]",
      "text/plain": [
       "<Figure size 640x480 with 1 Axes>"
      ]
     },
     "metadata": {},
     "output_type": "display_data"
    }
   ],
   "source": [
    "plt.plot(hist.history['accuracy'],label='Train')\n",
    "plt.plot(hist.history['val_accuracy'],label='Val')\n",
    "plt.legend()\n",
    "plt.show()"
   ]
  },
  {
   "cell_type": "markdown",
   "id": "561fda78",
   "metadata": {
    "papermill": {
     "duration": 0.025249,
     "end_time": "2023-05-12T08:25:11.396145",
     "exception": false,
     "start_time": "2023-05-12T08:25:11.370896",
     "status": "completed"
    },
    "tags": []
   },
   "source": [
    "# Usar mejor modelo"
   ]
  },
  {
   "cell_type": "code",
   "execution_count": 11,
   "id": "401f6d29",
   "metadata": {
    "execution": {
     "iopub.execute_input": "2023-05-12T08:25:11.448379Z",
     "iopub.status.busy": "2023-05-12T08:25:11.447884Z",
     "iopub.status.idle": "2023-05-12T08:25:14.457239Z",
     "shell.execute_reply": "2023-05-12T08:25:14.456196Z"
    },
    "papermill": {
     "duration": 3.038233,
     "end_time": "2023-05-12T08:25:14.459764",
     "exception": false,
     "start_time": "2023-05-12T08:25:11.421531",
     "status": "completed"
    },
    "tags": []
   },
   "outputs": [
    {
     "name": "stdout",
     "output_type": "stream",
     "text": [
      "313/313 [==============================] - 1s 4ms/step - loss: 1.2610 - accuracy: 0.5995\n"
     ]
    },
    {
     "data": {
      "text/plain": [
       "[1.2610405683517456, 0.5995000004768372]"
      ]
     },
     "execution_count": 11,
     "metadata": {},
     "output_type": "execute_result"
    }
   ],
   "source": [
    "model2 = model\n",
    "model2.load_weights('./CNN_reconocimiento_objetos.hdf5')\n",
    "model2.evaluate(x_test, y_test)"
   ]
  },
  {
   "cell_type": "code",
   "execution_count": 12,
   "id": "906cec75",
   "metadata": {
    "editable": false,
    "execution": {
     "iopub.execute_input": "2023-05-12T08:25:14.518030Z",
     "iopub.status.busy": "2023-05-12T08:25:14.516376Z",
     "iopub.status.idle": "2023-05-12T08:25:16.083081Z",
     "shell.execute_reply": "2023-05-12T08:25:16.082073Z"
    },
    "papermill": {
     "duration": 1.597558,
     "end_time": "2023-05-12T08:25:16.085402",
     "exception": false,
     "start_time": "2023-05-12T08:25:14.487844",
     "status": "completed"
    },
    "tags": []
   },
   "outputs": [
    {
     "name": "stdout",
     "output_type": "stream",
     "text": [
      "313/313 [==============================] - 1s 4ms/step - loss: 1.2610 - accuracy: 0.5995\n"
     ]
    },
    {
     "data": {
      "text/plain": [
       "[1.2610405683517456, 0.5995000004768372]"
      ]
     },
     "execution_count": 12,
     "metadata": {},
     "output_type": "execute_result"
    }
   ],
   "source": [
    "model.evaluate(x_test, y_test)"
   ]
  },
  {
   "cell_type": "code",
   "execution_count": 13,
   "id": "5e7aa355",
   "metadata": {
    "editable": false,
    "execution": {
     "iopub.execute_input": "2023-05-12T08:25:16.147122Z",
     "iopub.status.busy": "2023-05-12T08:25:16.146765Z",
     "iopub.status.idle": "2023-05-12T08:25:16.153386Z",
     "shell.execute_reply": "2023-05-12T08:25:16.152307Z"
    },
    "papermill": {
     "duration": 0.040058,
     "end_time": "2023-05-12T08:25:16.155872",
     "exception": false,
     "start_time": "2023-05-12T08:25:16.115814",
     "status": "completed"
    },
    "tags": []
   },
   "outputs": [
    {
     "data": {
      "text/plain": [
       "{'verbose': 1, 'epochs': 1, 'steps': 313}"
      ]
     },
     "execution_count": 13,
     "metadata": {},
     "output_type": "execute_result"
    }
   ],
   "source": [
    "model.history.params"
   ]
  },
  {
   "cell_type": "markdown",
   "id": "ba2f2732",
   "metadata": {
    "editable": false,
    "papermill": {
     "duration": 0.029637,
     "end_time": "2023-05-12T08:25:16.214855",
     "exception": false,
     "start_time": "2023-05-12T08:25:16.185218",
     "status": "completed"
    },
    "tags": []
   },
   "source": []
  }
 ],
 "metadata": {
  "kernelspec": {
   "display_name": "Python 3",
   "language": "python",
   "name": "python3"
  },
  "language_info": {
   "codemirror_mode": {
    "name": "ipython",
    "version": 3
   },
   "file_extension": ".py",
   "mimetype": "text/x-python",
   "name": "python",
   "nbconvert_exporter": "python",
   "pygments_lexer": "ipython3",
   "version": "3.7.12"
  },
  "papermill": {
   "default_parameters": {},
   "duration": 527.193138,
   "end_time": "2023-05-12T08:25:19.077217",
   "environment_variables": {},
   "exception": null,
   "input_path": "__notebook__.ipynb",
   "output_path": "__notebook__.ipynb",
   "parameters": {},
   "start_time": "2023-05-12T08:16:31.884079",
   "version": "2.4.0"
  }
 },
 "nbformat": 4,
 "nbformat_minor": 5
}
