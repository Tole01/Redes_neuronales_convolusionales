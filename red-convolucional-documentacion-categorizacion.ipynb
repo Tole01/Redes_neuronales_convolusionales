{
 "cells": [
  {
   "cell_type": "raw",
   "id": "203bed49",
   "metadata": {
    "_cell_guid": "b1076dfc-b9ad-4769-8c92-a6c4dae69d19",
    "_uuid": "8f2839f25d086af736a60e9eeb907d3b93b6e0e5",
    "execution": {
     "iopub.execute_input": "2023-04-29T22:17:50.577417Z",
     "iopub.status.busy": "2023-04-29T22:17:50.576827Z",
     "iopub.status.idle": "2023-04-29T22:17:50.605985Z",
     "shell.execute_reply": "2023-04-29T22:17:50.605028Z",
     "shell.execute_reply.started": "2023-04-29T22:17:50.577373Z"
    },
    "papermill": {
     "duration": 0.007474,
     "end_time": "2023-05-12T06:34:26.155788",
     "exception": false,
     "start_time": "2023-05-12T06:34:26.148314",
     "status": "completed"
    },
    "tags": []
   },
   "source": [
    "# This Python 3 environment comes with many helpful analytics libraries installed\n",
    "# It is defined by the kaggle/python Docker image: https://github.com/kaggle/docker-python\n",
    "# For example, here's several helpful packages to load\n",
    "\n",
    "import numpy as np # linear algebra\n",
    "import pandas as pd # data processing, CSV file I/O (e.g. pd.read_csv)\n",
    "\n",
    "# Input data files are available in the read-only \"../input/\" directory\n",
    "# For example, running this (by clicking run or pressing Shift+Enter) will list all files under the input directory\n",
    "\n",
    "import os\n",
    "for dirname, _, filenames in os.walk('/kaggle/input'):\n",
    "    for filename in filenames:\n",
    "        print(os.path.join(dirname, filename))\n",
    "\n",
    "# You can write up to 20GB to the current directory (/kaggle/working/) that gets preserved as output when you create a version using \"Save & Run All\" \n",
    "# You can also write temporary files to /kaggle/temp/, but they won't be saved outside of the current session"
   ]
  },
  {
   "cell_type": "markdown",
   "id": "cfe560b0",
   "metadata": {
    "papermill": {
     "duration": 0.005888,
     "end_time": "2023-05-12T06:34:26.168133",
     "exception": false,
     "start_time": "2023-05-12T06:34:26.162245",
     "status": "completed"
    },
    "tags": []
   },
   "source": [
    "# Redes Convolucionales\n",
    "\n",
    "Una red convolucional es una representación de la visión humana, la cual usa filtros para extraer la información relevante de una imagen para clasificarla en cierta categoría.\n",
    "\n",
    "# Funcionamiento\n",
    "\n",
    "Una convolución es un filtro que pasa sobre una imagen desde la esquina superior izquierda hasta la esquina inferior derecha. Este filtro procesa uno a uno c/pixel de la imagen y extrae las características que muestran que algo es común en la imagen. Esta tecnica analiza las imágenes desde sus bordes, características, forma, etc.\n",
    "\n",
    "Conceptos clave de este sistema son los hiperparametros definidos por:\n",
    "\n",
    "* Kernel \n",
    "* Padding \n",
    "* Strides\n",
    "\n",
    "El Kernel Size, se refiere a las dimensiones del filtro, que generalmente es cuadrado, por lo que solo se indica una de las dimensiones.\n",
    "\n",
    "El Padding es el tamaño del marco (en pixeles adicionales) que se agrega a la imagen, de tal forma que los pixeles de las esquinas y bordes de la imagen original, no se pierdan del todo con la convolución.\n",
    "\n",
    "Strides es el tamaño del paso en cada convolución. Entre mas grande sea el paso menor será la imagen resultante.\n",
    "\n",
    "# Manejo de Imagenes\n",
    "\n",
    "Si no se requieren los colores para identificar algo, no los uses, ya que la escala de grises solo maneja 1 escala dentro de la dimension extra, pero las fotos y los videos a color mantienen 3 debido al RGB, por lo que el tiempo de procesamiento se triplica.\n",
    "\n",
    "De igual forma, debemos entrenar, validar y predecir con imagenes del mismo tamaño. Si son imagenes de 28 x 28 en el entrenamiento, entonces el modelo solo aceptara estas imagenes. En caso contrario podria dar error al intentar compilar, ya que el algoritmo no entiende esto.\n",
    "\n",
    "Podemos hacer uso de la tecnica de data augmentation para generar imagenes desde diferentes perspectivas, para que el modelo entienda la clasificacion.\n",
    "\n",
    "# Kernell\n",
    "\n",
    "Las redes neuronales tienen una componente principal conocida como filtros, también llamados kernel. Esto se debe a que las maquinas usualmente entienden las imágenes como pixeles, números contenidos en un sistema matricial en su ancho y su largo.\n",
    "\n",
    "El **Kernell** es simplemente una matriz que funciona de la siguiente manera:\n",
    "\n",
    "El **Kernell** se va mueve desde la esquina superior izquierda hasta la esquina inferior derecha, paso por paso hasta completa toda la imagen haciendo una pequeña operación matemática llamada “**convolución**”.\n",
    "\n",
    "La **convolución** es muy parecida al procedimiento del producto punto, pero no igual. Primero, el Kernell se ubica en la parte superior izquierda de la imagen y se va moviendo paso a paso ejecutando una operación matemática de multiplicación para empezar a obtener datos y patrones por cada fila y columna que compone la imagen. En este caso, la multiplicacion se hace entre los puntos equivalentes.\n",
    "\n",
    "Ejemplo, si tenemos una imagen de m x n, y un kernel de 2x2, nuestro kernell se ira moviendo de izquierda a derecha para multiplicar los numeros correspondientes a su posicion, entonces, tendriamos lo siguiente:\n",
    "\n",
    "$\\begin{equation} \\begin{bmatrix} 0,0 & 0,1 \\\\ 1,0 & 1,1 \\end{bmatrix} \\end{equation} x$ $\\begin{equation} \\begin{bmatrix} 0,0 & 0,1\\\\ 1,0 & 1,1 \\end{bmatrix} \\end{equation} =$ $\\begin{equation} \\begin{bmatrix} 0,0 x 0,0 & 0,1 x 0,1\\\\ 1,0 x 1,0 & 1,1 x 1,1 \\end{bmatrix} \\end{equation} = $ $\\begin{equation} \\begin{bmatrix} num1 & num2\\\\ num3 & num4 \\end{bmatrix} \\end{equation}$\n",
    "\n",
    "Finalmente, todos los numeros de la matriz se sumaran para generar un valor unico:\n",
    "\n",
    "$num1 + num2 + num3 + num4 = y$\n",
    "\n",
    "si el numero es 0, entonces significa que no hay ningun borde. Entre mayor sea y, el borde sera muchisimo mas definido.\n",
    "\n",
    "Los diferentes resultados que tenga y a lo largo de la imagen compondrán una nueva imagen con ciertas características, como por ejemplo: “los bordes verticales”. El objetivo de la convolución es empezar a obtener datos y patrones que representen todos los bordes posibles en distintas orientaciones, ya que hay 1 kernell para cada orientacion.\n",
    "\n",
    "El ejemplo practico de esta teoria se le puede encontrar en https://setosa.io/ev/image-kernels/ o en mi notebook de Procesamiento de Imagen.\n",
    "\n",
    "# Padding\n",
    "\n",
    "Es un margen que se le agrega a la imagen para que al momento de realizar la operación de convolución la imagen resultante no reduzca su tamaño. Se utilizan 0 para que no altere las características de las imágenes original. Este es util para brindarle valores de referencia a los pixeles que se encuentran en el perimetro de la imagen.\n",
    "\n",
    "# Strides\n",
    "\n",
    "Es el tamaño del paso en cada convolución y entre más grande sea el paso menor será la imagen resultante. Este puede simplificarse como el step que da el kernel a la hora de procesar la imagen.\n",
    "\n",
    "# Hiperparametros en la capa de convolucion\n",
    "\n",
    "Al invocar la capa de convolución `Conv2D()`, nosotros podemos modificar los hiperparametros a traves de los siguientes argumentos:\n",
    "\n",
    "* Filters: cuantos Kernel’s voy a utilizar.\n",
    "* Kernel_size: el tamaño del Kernel.\n",
    "* Strides: que se reciben como una tupla en la cual el primer parámetro registra el movimiento hacia los lados y el segundo, su movimiento hacia arriba o hacia abajo. Ejemplo: (1,1).\n",
    "* Padding: recibe en un array dos valores `“valid”` y `“same”`. Si se selecciona `\"same\"`, entonces Keras automáticamente se encarga de todos los hiper-parámetros para que el padding sea lo suficientemente grande, tanto para que la imagen de entrada como la de salida sean exactamente las mismas y no se pierda ningún dato durante el proceso. Si se selecciona `“valid”`, entonces no aplica el “padding”. Al momento de pasar el filtro tomara el primer hasta el último pixel original de la imagen pero esto resultara en una imagen más corta en ancho y largo.\n",
    "\n",
    "# Capa MaxPooling2D\n",
    "\n",
    "A medida que la profundidad de la red va avanzando, tambien lo hace el número de imágenes generadas por los filtros y por lo tanto el número de imagenes a procesar ocasionara una sobrecarga computacional.\n",
    "\n",
    "Es por esto que se invento la capa de pooling, la cual nos servirá para disminuir el tamaño de las imágenes resultantes de la convolución. Esta capa utiliza un kernel con distintos metodos:\n",
    "\n",
    "* max: conserva el pixel mas alto de un grupo de pixeles capturados por el kernel\n",
    "* average: saca el promedio de un grupo de pixeles capturados por el kernel\n",
    "\n",
    "Estas operaciones generaran una operación de agrupamiento. Gracias a esta operación se reduce el ruido, mientras se conserva las características más importantes de la imagen.\n",
    "\n",
    "En resumen, mientras avancemos en las capas de la redes neuronales convolucionales, se ira aumentando el número de canales en la imagen (imágenes resultantes de convolución) y se ira disminuyendo el tamaño de las imágenes debido a la capa de pooling.\n",
    "\n",
    "Estas 2 operaciones permitirán detectar resaltar objetos específicos en una imagen, sin tener problemas de computación.\n",
    "\n",
    "# Arquitectura de la red convolusional\n",
    "\n",
    "Las múltiples imágenes de entradas que utiliza el modelo van a pasar a través de una red convolusional para extraer ciertas características como: bordes, texturas, etc.\n",
    "\n",
    "Al principio estas capas son superficiales pero al adentrarse a la profundidad de la red van a ser características mucho más complejas aprovechando el aprendizaje profundo (Deep Learning).\n",
    "\n",
    "Para analizar una imagen, la primera capa siempre debe ser convolusional, la cual agrega profundidad al input. Despues le sigue una capa de Max-Pooling. Estas suelen ir entrelazadas para reducir la complejidad, acortando el largo y ancho de las imágenes.\n",
    "\n",
    "Esto hace que el modelo genere una imagen mucho más pequeña pero mucho más profunda en su contexto (contiene informacion mas especifica).\n",
    "\n",
    "Después se le aplica una capa llamada “flatten” la cual lleva al arreglo o Tensor resultante a una única dimensión. Esto facilita que el apilamiento de las capas densas clasifique las imagenes.\n",
    "\n",
    "Ejemplo de arquitectura: https://alexlenail.me/NN-SVG/LeNet.html\n",
    "\n",
    "Calculadora para calcular la salida de una capa en CNN: https://madebyollin.github.io/convnet-calculator/\n",
    "\n",
    "# Data Augmentation\n",
    "\n",
    "Esta tecnica busca mejorar el rendimiento y la precisión de nuestro modelo al aumentar la cantidad y el estilo de los datos de entrada; dado que es difícil obtener y clasificar las imágenes para entrenar un modelo, dados los ambientes de una fotografía, la luz, el escenario, etc.\n",
    "\n",
    "La tecnica de Data augmentation toma una imagen y le hace distintas modificaciones, tales como:\n",
    "\n",
    "* Hacerle zoom\n",
    "* Desplazar la imagen de sus ejes X,Y\n",
    "* Aumentar el brillo\n",
    "* Rotar la imagen\n",
    "\n",
    "Ademas, tenemos un argumento llamado `fill mode`, el cual tiene 3 modos basicos:\n",
    "\n",
    "* Wrap: crea una tira consecutiva de la imagen para completar los espacios\n",
    "* Reflect: refleja la imagen sobre el eje y\n",
    "* Nearest: Cuando tu rotas una imagen se puede perder informacion de los pixeles, ya quedan pixeles negros. Entonces, este modo rellena los pixeles negros con los pixeles mas cercanos a estos.\n",
    "\n",
    "`Keras` tiene una funcion llamada `ImageDataGenerator`, la cual nos permite hacer Data augmentation a partir de los siguientes argumentos:\n",
    "\n",
    "* `rotation_range`: son los grados de rotacion que tendra la imagen.\n",
    "* `zoom_range`: es la fraccion de cuanto zoom va a hacer a la imagen.\n",
    "* `fill_mode`: colocas los distintos modos para completar imagenes.\n",
    "* `horizontal_flip`: muestra una imagen tipo espejo de la imagen\n",
    "* `brightness_range`: cambia el brillo de la imagen a traves de un rango de brillo, el cual se define dentro de una lista.\n",
    "* `Width & Height_shift_range`: se desplaza sobre el ancho y el alto de la imagen.\n",
    "\n",
    "A modo de sumario, Data Augmentation lo que hace es mantener la foto con sus características principales pero creando imágenes distintas.\n",
    "\n",
    "La máquina observa dos fotos “** parecidas**” pero con características similar. Esto es lo buscado y deseado al llevar a cabo un entrenamiento que pueda encontrar estas características\n",
    "\n",
    "# Early Stopping\n",
    "\n",
    "Esta es una tecnica que nos permite acabar el entrenamiento cuando el modelo deja de  mejorar en una metrica. El metodo `tf.keras.callbacks.earlyStopping()` nos indica cuanto tiempo puede esperar el mmodelo para que mejore una metrica.\n",
    "\n",
    "Los argumentos de este metodo son:\n",
    "\n",
    "* `monitor`: es la metrica que va a usar el modelo para evaluar el desempeño. \n",
    "* `patience`: es la cantidad de epocas que el modelo va a esperar para conseguir un mejor resultado en la metrica medida. Si no consigue un mejor resultado, entonces el modelo deja de entrenar.\n",
    "\n",
    "# Checkpoint\n",
    "\n",
    "El checkpoint es un metodo definido por `tf.keras.callbacks.ModelCheckpoint()` que permite guardar la epoca  que tuvo mejores resultados en el modelo. Usa los siguiente argumentos:\n",
    "\n",
    "* `filepath`: es el nombre con el cual esta version del modelo va a ser guardada en un archivo.\n",
    "* `verbose`: es la forma en que quieres ver el progreso del entrenamiento (estetica).\n",
    "* `monitor`: es la metrica que va a usar el modelo para evaluar el desempeño.\n",
    "* `save_best_only`: Es un booleano y sirve para decir que si quieres guardar la mejor version del modelo.\n",
    "\n",
    "Despues,este modelo puede ser llamado con el metodo `model.load_weights(filename)` el cual utiliza el path del archivo que contiene al modelo guardado.\n",
    "\n",
    "NOTA: Tando el early stopping como el checkpoint van dentro del argumento `callbacks` dentro de `model.fit()`. Esto se veria como: `model.fit(callbacks = chackpoint)`.\n",
    "\n",
    "# Batch Normalization\n",
    "\n",
    "Batch Normalizacion es una herramienta que facilita mucho el descenso del gradiente y optimiza las redes convolucionales.\n",
    "\n",
    "La normalización es un procedimiento llevado a cabo sobre un conjunto de datos que busca estandarizar sus valores, reducir la cantidad de números que lo compone y en una escala homogénea de datos ayudando al descenso del gradiente “para converger mucho más rápido ” cuando se ejecuta el “Backpropagation” . La normalizacion tiene las siguientes caracteristicas:\n",
    "\n",
    "* Valores pequeños: típicamente entre 0 a 1\n",
    "* Data homogénea: todos los píxeles tienen datos en el mismo rango.\n",
    "\n",
    "No obstante, el proceso de normalizacion tambien se puede llevar a cabo dentro de las capas ocultas de la red neuronal, a lo que se le conoce como “Batch Normalization”. Este proceso sigue la misma lógica matemática de cualquier normalización:\n",
    "\n",
    "1. Agrupar por lotes o “batches” dentro del mismo entrenamiento de la red neuronal, en consecuencia, obtengo la media del conjunto de entrenamiento.\n",
    "2. Despues, debemos obtener la varianza o desviación estándar.\n",
    "3. Luego, a cada lote se le resta la media y se divide entre la desviación estándar. \n",
    "\n",
    "Al hacer esto dentro de las capas ocultas, tenemos data estandarizada como resultado, lo que ayudanda a converger el algoritmo.\n",
    "\n",
    "Este proceso se crea a traves de una nueva capa neuronal, generada por `model.add(BatchNormalization())`"
   ]
  },
  {
   "cell_type": "markdown",
   "id": "3337c905",
   "metadata": {
    "papermill": {
     "duration": 0.005431,
     "end_time": "2023-05-12T06:34:26.179450",
     "exception": false,
     "start_time": "2023-05-12T06:34:26.174019",
     "status": "completed"
    },
    "tags": []
   },
   "source": [
    "# Librerias"
   ]
  },
  {
   "cell_type": "code",
   "execution_count": 1,
   "id": "8870157b",
   "metadata": {
    "execution": {
     "iopub.execute_input": "2023-05-12T06:34:26.193167Z",
     "iopub.status.busy": "2023-05-12T06:34:26.192613Z",
     "iopub.status.idle": "2023-05-12T06:34:34.675935Z",
     "shell.execute_reply": "2023-05-12T06:34:34.674606Z"
    },
    "papermill": {
     "duration": 8.494049,
     "end_time": "2023-05-12T06:34:34.679214",
     "exception": false,
     "start_time": "2023-05-12T06:34:26.185165",
     "status": "completed"
    },
    "tags": []
   },
   "outputs": [],
   "source": [
    "import tensorflow as tf\n",
    "from keras.models import clone_model\n",
    "from tensorflow.keras.datasets import fashion_mnist\n",
    "from tensorflow.keras.layers import Conv2D, Dropout, MaxPooling2D, Flatten, Dense\n",
    "import numpy as np\n",
    "import matplotlib.pyplot as plt"
   ]
  },
  {
   "cell_type": "markdown",
   "id": "0154b474",
   "metadata": {
    "_kg_hide-input": true,
    "papermill": {
     "duration": 0.006019,
     "end_time": "2023-05-12T06:34:34.691739",
     "exception": false,
     "start_time": "2023-05-12T06:34:34.685720",
     "status": "completed"
    },
    "tags": []
   },
   "source": [
    "# 1ra Red Convolucional\n",
    "\n",
    "## Datos"
   ]
  },
  {
   "cell_type": "code",
   "execution_count": 2,
   "id": "f84ab62c",
   "metadata": {
    "execution": {
     "iopub.execute_input": "2023-05-12T06:34:34.705764Z",
     "iopub.status.busy": "2023-05-12T06:34:34.705015Z",
     "iopub.status.idle": "2023-05-12T06:34:35.609599Z",
     "shell.execute_reply": "2023-05-12T06:34:35.608231Z"
    },
    "papermill": {
     "duration": 0.915042,
     "end_time": "2023-05-12T06:34:35.612790",
     "exception": false,
     "start_time": "2023-05-12T06:34:34.697748",
     "status": "completed"
    },
    "tags": []
   },
   "outputs": [
    {
     "name": "stdout",
     "output_type": "stream",
     "text": [
      "Downloading data from https://storage.googleapis.com/tensorflow/tf-keras-datasets/train-labels-idx1-ubyte.gz\n",
      "29515/29515 [==============================] - 0s 0us/step\n",
      "Downloading data from https://storage.googleapis.com/tensorflow/tf-keras-datasets/train-images-idx3-ubyte.gz\n",
      "26421880/26421880 [==============================] - 0s 0us/step\n",
      "Downloading data from https://storage.googleapis.com/tensorflow/tf-keras-datasets/t10k-labels-idx1-ubyte.gz\n",
      "5148/5148 [==============================] - 0s 0us/step\n",
      "Downloading data from https://storage.googleapis.com/tensorflow/tf-keras-datasets/t10k-images-idx3-ubyte.gz\n",
      "4422102/4422102 [==============================] - 0s 0us/step\n"
     ]
    }
   ],
   "source": [
    "# Carga los datos de entrada\n",
    "(train_images, train_labels), (test_images, test_labels) = fashion_mnist.load_data()"
   ]
  },
  {
   "cell_type": "code",
   "execution_count": 3,
   "id": "5901bc7b",
   "metadata": {
    "execution": {
     "iopub.execute_input": "2023-05-12T06:34:35.630249Z",
     "iopub.status.busy": "2023-05-12T06:34:35.628206Z",
     "iopub.status.idle": "2023-05-12T06:34:35.637923Z",
     "shell.execute_reply": "2023-05-12T06:34:35.636530Z"
    },
    "papermill": {
     "duration": 0.020971,
     "end_time": "2023-05-12T06:34:35.640971",
     "exception": false,
     "start_time": "2023-05-12T06:34:35.620000",
     "status": "completed"
    },
    "tags": []
   },
   "outputs": [
    {
     "data": {
      "text/plain": [
       "(60000, 28, 28)"
      ]
     },
     "execution_count": 3,
     "metadata": {},
     "output_type": "execute_result"
    }
   ],
   "source": [
    "# Shape de las imagenes de 28 x 28\n",
    "train_images.shape"
   ]
  },
  {
   "cell_type": "code",
   "execution_count": 4,
   "id": "589807a4",
   "metadata": {
    "execution": {
     "iopub.execute_input": "2023-05-12T06:34:35.656285Z",
     "iopub.status.busy": "2023-05-12T06:34:35.655966Z",
     "iopub.status.idle": "2023-05-12T06:34:35.932984Z",
     "shell.execute_reply": "2023-05-12T06:34:35.931729Z"
    },
    "papermill": {
     "duration": 0.287949,
     "end_time": "2023-05-12T06:34:35.936016",
     "exception": false,
     "start_time": "2023-05-12T06:34:35.648067",
     "status": "completed"
    },
    "tags": []
   },
   "outputs": [
    {
     "data": {
      "text/plain": [
       "<matplotlib.image.AxesImage at 0x786db4bf8f10>"
      ]
     },
     "execution_count": 4,
     "metadata": {},
     "output_type": "execute_result"
    },
    {
     "data": {
      "image/png": "[encoded data removed]",
      "text/plain": [
       "<Figure size 640x480 with 1 Axes>"
      ]
     },
     "metadata": {},
     "output_type": "display_data"
    }
   ],
   "source": [
    "# Observar imagen\n",
    "plt.imshow(train_images[11])"
   ]
  },
  {
   "cell_type": "code",
   "execution_count": 5,
   "id": "8f2f54be",
   "metadata": {
    "execution": {
     "iopub.execute_input": "2023-05-12T06:34:35.953638Z",
     "iopub.status.busy": "2023-05-12T06:34:35.952963Z",
     "iopub.status.idle": "2023-05-12T06:34:36.042965Z",
     "shell.execute_reply": "2023-05-12T06:34:36.041607Z"
    },
    "papermill": {
     "duration": 0.10237,
     "end_time": "2023-05-12T06:34:36.046327",
     "exception": false,
     "start_time": "2023-05-12T06:34:35.943957",
     "status": "completed"
    },
    "tags": []
   },
   "outputs": [],
   "source": [
    "# Transformacion en float y estandarizacion de imagenes sobre 255\n",
    "train_images = train_images.astype('float32')/255\n",
    "test_images = test_images.astype('float32')/255\n",
    "\n",
    "# Reshape de imagenes con una dimension extra para escala de grises\n",
    "train_images = train_images.reshape(train_images.shape[0],train_images.shape[1], train_images.shape[2],1)\n",
    "test_images = test_images.reshape(test_images.shape[0],test_images.shape[1], test_images.shape[2],1)\n",
    "\n",
    "# Vectorizar las categorias de labels con to_categorical(), donde pones el numero de categorias que existen\n",
    "train_labels = tf.keras.utils.to_categorical(train_labels,10)\n",
    "test_labels = tf.keras.utils.to_categorical(test_labels,10)"
   ]
  },
  {
   "cell_type": "markdown",
   "id": "bf7d1abf",
   "metadata": {
    "papermill": {
     "duration": 0.007073,
     "end_time": "2023-05-12T06:34:36.061877",
     "exception": false,
     "start_time": "2023-05-12T06:34:36.054804",
     "status": "completed"
    },
    "tags": []
   },
   "source": [
    "## Crear Modelo"
   ]
  },
  {
   "cell_type": "code",
   "execution_count": 6,
   "id": "67e97ea0",
   "metadata": {
    "execution": {
     "iopub.execute_input": "2023-05-12T06:34:36.078622Z",
     "iopub.status.busy": "2023-05-12T06:34:36.078241Z",
     "iopub.status.idle": "2023-05-12T06:34:39.094787Z",
     "shell.execute_reply": "2023-05-12T06:34:39.093573Z"
    },
    "papermill": {
     "duration": 3.049436,
     "end_time": "2023-05-12T06:34:39.118814",
     "exception": false,
     "start_time": "2023-05-12T06:34:36.069378",
     "status": "completed"
    },
    "tags": []
   },
   "outputs": [
    {
     "name": "stdout",
     "output_type": "stream",
     "text": [
      "Model: \"sequential\"\n",
      "_________________________________________________________________\n",
      " Layer (type)                Output Shape              Param #   \n",
      "=================================================================\n",
      " conv2d (Conv2D)             (None, 28, 28, 64)        320       \n",
      "                                                                 \n",
      " max_pooling2d (MaxPooling2D  (None, 14, 14, 64)       0         \n",
      " )                                                               \n",
      "                                                                 \n",
      " dropout (Dropout)           (None, 14, 14, 64)        0         \n",
      "                                                                 \n",
      " conv2d_1 (Conv2D)           (None, 14, 14, 32)        8224      \n",
      "                                                                 \n",
      " max_pooling2d_1 (MaxPooling  (None, 7, 7, 32)         0         \n",
      " 2D)                                                             \n",
      "                                                                 \n",
      " dropout_1 (Dropout)         (None, 7, 7, 32)          0         \n",
      "                                                                 \n",
      " flatten (Flatten)           (None, 1568)              0         \n",
      "                                                                 \n",
      " dense (Dense)               (None, 256)               401664    \n",
      "                                                                 \n",
      " dropout_2 (Dropout)         (None, 256)               0         \n",
      "                                                                 \n",
      " dense_1 (Dense)             (None, 10)                2570      \n",
      "                                                                 \n",
      "=================================================================\n",
      "Total params: 412,778\n",
      "Trainable params: 412,778\n",
      "Non-trainable params: 0\n",
      "_________________________________________________________________\n"
     ]
    }
   ],
   "source": [
    "# Definimos modelo\n",
    "model = tf.keras.Sequential()\n",
    "\n",
    "# Creamos capa de convolucion\n",
    "model.add(Conv2D(filters = 64, kernel_size = 2, padding = 'same', activation = 'relu', input_shape = (28,28,1) ))\n",
    "\n",
    "#Creamos capa de max pooling y de dropout\n",
    "model.add(MaxPooling2D(pool_size = 2))\n",
    "model.add(Dropout(0.3))\n",
    "\n",
    "# Repetimos con menos filtros y sin input_shape\n",
    "model.add(Conv2D(filters = 32, kernel_size = 2, padding = 'same', activation = 'relu'))\n",
    "model.add(MaxPooling2D(pool_size = 2))\n",
    "model.add(Dropout(0.3))\n",
    "\n",
    "# Hacemos capa para hacer flatten las matrices\n",
    "model.add(Flatten())\n",
    "\n",
    "# Creamos capa densa con una capa de dropout\n",
    "model.add(Dense(256, activation = 'relu'))\n",
    "model.add(Dropout(0.5))\n",
    "\n",
    "# Creamos capa con activacion softmax para categorizar\n",
    "model.add(Dense(10, activation = 'softmax'))\n",
    "\n",
    "# Hacemos summary del modelo\n",
    "model.summary()"
   ]
  },
  {
   "cell_type": "markdown",
   "id": "2965d6c8",
   "metadata": {
    "papermill": {
     "duration": 0.010649,
     "end_time": "2023-05-12T06:34:39.140461",
     "exception": false,
     "start_time": "2023-05-12T06:34:39.129812",
     "status": "completed"
    },
    "tags": []
   },
   "source": [
    "## Entrenamiento y evaluacion del modelo"
   ]
  },
  {
   "cell_type": "code",
   "execution_count": 7,
   "id": "516e7137",
   "metadata": {
    "execution": {
     "iopub.execute_input": "2023-05-12T06:34:39.164519Z",
     "iopub.status.busy": "2023-05-12T06:34:39.163512Z",
     "iopub.status.idle": "2023-05-12T06:34:39.170959Z",
     "shell.execute_reply": "2023-05-12T06:34:39.169766Z"
    },
    "papermill": {
     "duration": 0.022551,
     "end_time": "2023-05-12T06:34:39.173904",
     "exception": false,
     "start_time": "2023-05-12T06:34:39.151353",
     "status": "completed"
    },
    "tags": []
   },
   "outputs": [],
   "source": [
    "# Definimos el early stop\n",
    "early = tf.keras.callbacks.EarlyStopping(monitor= 'accuracy', patience = 1)\n",
    "\n",
    "# Definimos el checkpoint\n",
    "checkpoint = tf.keras.callbacks.ModelCheckpoint(filepath= '1er_CNN.hdf5',\n",
    "                                               verbose = 1,\n",
    "                                               monitor = 'accuracy',\n",
    "                                               save_best_only = True)"
   ]
  },
  {
   "cell_type": "code",
   "execution_count": 8,
   "id": "3430c6bb",
   "metadata": {
    "execution": {
     "iopub.execute_input": "2023-05-12T06:34:39.196973Z",
     "iopub.status.busy": "2023-05-12T06:34:39.196223Z",
     "iopub.status.idle": "2023-05-12T06:35:36.513970Z",
     "shell.execute_reply": "2023-05-12T06:35:36.512770Z"
    },
    "papermill": {
     "duration": 57.332534,
     "end_time": "2023-05-12T06:35:36.516888",
     "exception": false,
     "start_time": "2023-05-12T06:34:39.184354",
     "status": "completed"
    },
    "tags": []
   },
   "outputs": [
    {
     "name": "stdout",
     "output_type": "stream",
     "text": [
      "Epoch 1/10\n"
     ]
    },
    {
     "name": "stderr",
     "output_type": "stream",
     "text": [
      "2023-05-12 06:34:40.793898: E tensorflow/core/grappler/optimizers/meta_optimizer.cc:954] layout failed: INVALID_ARGUMENT: Size of values 0 does not match size of permutation 4 @ fanin shape insequential/dropout/dropout/SelectV2-2-TransposeNHWCToNCHW-LayoutOptimizer\n"
     ]
    },
    {
     "name": "stdout",
     "output_type": "stream",
     "text": [
      "938/938 [==============================] - 13s 5ms/step - loss: 0.5833 - accuracy: 0.7863\n",
      "Epoch 2/10\n",
      "938/938 [==============================] - 5s 5ms/step - loss: 0.4010 - accuracy: 0.8574\n",
      "Epoch 3/10\n",
      "938/938 [==============================] - 5s 5ms/step - loss: 0.3603 - accuracy: 0.8708\n",
      "Epoch 4/10\n",
      "938/938 [==============================] - 5s 5ms/step - loss: 0.3370 - accuracy: 0.8788\n",
      "Epoch 5/10\n",
      "938/938 [==============================] - 5s 5ms/step - loss: 0.3235 - accuracy: 0.8845\n",
      "Epoch 6/10\n",
      "938/938 [==============================] - 5s 5ms/step - loss: 0.3123 - accuracy: 0.8877\n",
      "Epoch 7/10\n",
      "938/938 [==============================] - 5s 5ms/step - loss: 0.3067 - accuracy: 0.8904\n",
      "Epoch 8/10\n",
      "938/938 [==============================] - 5s 5ms/step - loss: 0.3042 - accuracy: 0.8915\n",
      "Epoch 9/10\n",
      "938/938 [==============================] - 5s 5ms/step - loss: 0.3029 - accuracy: 0.8939\n",
      "Epoch 10/10\n",
      "938/938 [==============================] - 5s 5ms/step - loss: 0.2964 - accuracy: 0.8956\n"
     ]
    },
    {
     "data": {
      "text/plain": [
       "<keras.callbacks.History at 0x786db4ae9810>"
      ]
     },
     "execution_count": 8,
     "metadata": {},
     "output_type": "execute_result"
    }
   ],
   "source": [
    "# Compilamos con la funcion de perdida, el optimizador y la metrica de eficiencia \n",
    "model.compile(loss = 'categorical_crossentropy',\n",
    "             optimizer = 'rmsprop',\n",
    "             metrics = ['accuracy'])\n",
    "\n",
    "# Entrenamiento con early stop\n",
    "model.fit(train_images, \n",
    "          train_labels,\n",
    "          callbacks= early ,\n",
    "          batch_size= 64,\n",
    "          epochs= 10)"
   ]
  },
  {
   "cell_type": "code",
   "execution_count": 9,
   "id": "11096467",
   "metadata": {
    "execution": {
     "iopub.execute_input": "2023-05-12T06:35:36.698347Z",
     "iopub.status.busy": "2023-05-12T06:35:36.697587Z",
     "iopub.status.idle": "2023-05-12T06:36:26.188020Z",
     "shell.execute_reply": "2023-05-12T06:36:26.186856Z"
    },
    "papermill": {
     "duration": 49.582786,
     "end_time": "2023-05-12T06:36:26.190999",
     "exception": false,
     "start_time": "2023-05-12T06:35:36.608213",
     "status": "completed"
    },
    "tags": []
   },
   "outputs": [
    {
     "name": "stdout",
     "output_type": "stream",
     "text": [
      "Epoch 1/10\n"
     ]
    },
    {
     "name": "stderr",
     "output_type": "stream",
     "text": [
      "2023-05-12 06:35:37.876165: E tensorflow/core/grappler/optimizers/meta_optimizer.cc:954] layout failed: INVALID_ARGUMENT: Size of values 0 does not match size of permutation 4 @ fanin shape insequential/dropout/dropout/SelectV2-2-TransposeNHWCToNCHW-LayoutOptimizer\n"
     ]
    },
    {
     "name": "stdout",
     "output_type": "stream",
     "text": [
      "932/938 [============================>.] - ETA: 0s - loss: 0.2964 - accuracy: 0.8960\n",
      "Epoch 1: accuracy improved from -inf to 0.89608, saving model to 1er_CNN.hdf5\n",
      "938/938 [==============================] - 6s 5ms/step - loss: 0.2964 - accuracy: 0.8961\n",
      "Epoch 2/10\n",
      "937/938 [============================>.] - ETA: 0s - loss: 0.2936 - accuracy: 0.8961\n",
      "Epoch 2: accuracy did not improve from 0.89608\n",
      "938/938 [==============================] - 5s 5ms/step - loss: 0.2938 - accuracy: 0.8961\n",
      "Epoch 3/10\n",
      "934/938 [============================>.] - ETA: 0s - loss: 0.2917 - accuracy: 0.8967\n",
      "Epoch 3: accuracy improved from 0.89608 to 0.89667, saving model to 1er_CNN.hdf5\n",
      "938/938 [==============================] - 5s 5ms/step - loss: 0.2918 - accuracy: 0.8967\n",
      "Epoch 4/10\n",
      "929/938 [============================>.] - ETA: 0s - loss: 0.2897 - accuracy: 0.8981\n",
      "Epoch 4: accuracy improved from 0.89667 to 0.89815, saving model to 1er_CNN.hdf5\n",
      "938/938 [==============================] - 5s 5ms/step - loss: 0.2895 - accuracy: 0.8982\n",
      "Epoch 5/10\n",
      "933/938 [============================>.] - ETA: 0s - loss: 0.2851 - accuracy: 0.8997\n",
      "Epoch 5: accuracy improved from 0.89815 to 0.89982, saving model to 1er_CNN.hdf5\n",
      "938/938 [==============================] - 5s 5ms/step - loss: 0.2851 - accuracy: 0.8998\n",
      "Epoch 6/10\n",
      "937/938 [============================>.] - ETA: 0s - loss: 0.2866 - accuracy: 0.9002\n",
      "Epoch 6: accuracy improved from 0.89982 to 0.90022, saving model to 1er_CNN.hdf5\n",
      "938/938 [==============================] - 5s 6ms/step - loss: 0.2866 - accuracy: 0.9002\n",
      "Epoch 7/10\n",
      "934/938 [============================>.] - ETA: 0s - loss: 0.2869 - accuracy: 0.8995\n",
      "Epoch 7: accuracy did not improve from 0.90022\n",
      "938/938 [==============================] - 5s 5ms/step - loss: 0.2867 - accuracy: 0.8996\n",
      "Epoch 8/10\n",
      "931/938 [============================>.] - ETA: 0s - loss: 0.2830 - accuracy: 0.9014\n",
      "Epoch 8: accuracy improved from 0.90022 to 0.90147, saving model to 1er_CNN.hdf5\n",
      "938/938 [==============================] - 5s 5ms/step - loss: 0.2826 - accuracy: 0.9015\n",
      "Epoch 9/10\n",
      "930/938 [============================>.] - ETA: 0s - loss: 0.2837 - accuracy: 0.9010\n",
      "Epoch 9: accuracy did not improve from 0.90147\n",
      "938/938 [==============================] - 5s 5ms/step - loss: 0.2836 - accuracy: 0.9010\n",
      "Epoch 10/10\n",
      "932/938 [============================>.] - ETA: 0s - loss: 0.2830 - accuracy: 0.9006\n",
      "Epoch 10: accuracy did not improve from 0.90147\n",
      "938/938 [==============================] - 5s 5ms/step - loss: 0.2832 - accuracy: 0.9004\n"
     ]
    },
    {
     "data": {
      "text/plain": [
       "<keras.callbacks.History at 0x786d906cdc50>"
      ]
     },
     "execution_count": 9,
     "metadata": {},
     "output_type": "execute_result"
    }
   ],
   "source": [
    "# Compilamos con la funcion de perdida, el optimizador y la metrica de eficiencia \n",
    "model.compile(loss = 'categorical_crossentropy',\n",
    "             optimizer = 'rmsprop',\n",
    "             metrics = ['accuracy'])\n",
    "\n",
    "# Entrenamiento con early stop\n",
    "model.fit(train_images, \n",
    "          train_labels,\n",
    "          callbacks= checkpoint ,\n",
    "          batch_size= 64,\n",
    "          epochs= 10)"
   ]
  },
  {
   "cell_type": "code",
   "execution_count": 10,
   "id": "15267bd4",
   "metadata": {
    "execution": {
     "iopub.execute_input": "2023-05-12T06:36:26.536874Z",
     "iopub.status.busy": "2023-05-12T06:36:26.536429Z",
     "iopub.status.idle": "2023-05-12T06:36:28.159104Z",
     "shell.execute_reply": "2023-05-12T06:36:28.157857Z"
    },
    "papermill": {
     "duration": 1.799621,
     "end_time": "2023-05-12T06:36:28.161870",
     "exception": false,
     "start_time": "2023-05-12T06:36:26.362249",
     "status": "completed"
    },
    "tags": []
   },
   "outputs": [
    {
     "name": "stdout",
     "output_type": "stream",
     "text": [
      "313/313 [==============================] - 1s 3ms/step - loss: 0.2581 - accuracy: 0.9071\n"
     ]
    },
    {
     "data": {
      "text/plain": [
       "[0.2581315338611603, 0.9071000218391418]"
      ]
     },
     "execution_count": 10,
     "metadata": {},
     "output_type": "execute_result"
    }
   ],
   "source": [
    "# Cargar modelo y \n",
    "m1 = model\n",
    "m1.load_weights('./1er_CNN.hdf5') \n",
    "m1.evaluate(test_images,test_labels)"
   ]
  },
  {
   "cell_type": "code",
   "execution_count": null,
   "id": "ad2bfd53",
   "metadata": {
    "papermill": {
     "duration": 0.174807,
     "end_time": "2023-05-12T06:36:28.509665",
     "exception": false,
     "start_time": "2023-05-12T06:36:28.334858",
     "status": "completed"
    },
    "tags": []
   },
   "outputs": [],
   "source": []
  }
 ],
 "metadata": {
  "kernelspec": {
   "display_name": "Python 3",
   "language": "python",
   "name": "python3"
  },
  "language_info": {
   "codemirror_mode": {
    "name": "ipython",
    "version": 3
   },
   "file_extension": ".py",
   "mimetype": "text/x-python",
   "name": "python",
   "nbconvert_exporter": "python",
   "pygments_lexer": "ipython3",
   "version": "3.7.12"
  },
  "papermill": {
   "default_parameters": {},
   "duration": 137.744176,
   "end_time": "2023-05-12T06:36:32.413574",
   "environment_variables": {},
   "exception": null,
   "input_path": "__notebook__.ipynb",
   "output_path": "__notebook__.ipynb",
   "parameters": {},
   "start_time": "2023-05-12T06:34:14.669398",
   "version": "2.4.0"
  }
 },
 "nbformat": 4,
 "nbformat_minor": 5
}
